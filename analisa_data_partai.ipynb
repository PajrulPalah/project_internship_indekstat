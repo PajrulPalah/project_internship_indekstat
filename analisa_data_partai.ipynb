{
  "nbformat": 4,
  "nbformat_minor": 0,
  "metadata": {
    "colab": {
      "provenance": [],
      "authorship_tag": "ABX9TyPAjgNvVzrLVPQTr0ARihDN",
      "include_colab_link": true
    },
    "kernelspec": {
      "name": "python3",
      "display_name": "Python 3"
    },
    "language_info": {
      "name": "python"
    }
  },
  "cells": [
    {
      "cell_type": "markdown",
      "metadata": {
        "id": "view-in-github",
        "colab_type": "text"
      },
      "source": [
        "<a href=\"https://colab.research.google.com/github/PajrulPalah/project_internship_indekstat/blob/main/analisa_data_partai.ipynb\" target=\"_parent\"><img src=\"https://colab.research.google.com/assets/colab-badge.svg\" alt=\"Open In Colab\"/></a>"
      ]
    },
    {
      "cell_type": "code",
      "execution_count": null,
      "metadata": {
        "id": "AJCuEbg981Ud"
      },
      "outputs": [],
      "source": [
        "# Mengistall Library untuk proses analisa data\n",
        "\n",
        "import pandas as pd\n",
        "import numpy as np\n",
        "import matplotlib.pyplot as plt\n",
        "import sqlite3\n"
      ]
    },
    {
      "cell_type": "code",
      "source": [
        "#langkah pertama adalah kita mengupload dataset data_magang_dprd_kab ke google drive yang yang terpaut pada google collab\n",
        "#Setelah itu kita tautkan dari gdrive ke google collab\n",
        "from google.colab import drive\n",
        "drive.mount('/content/drive')"
      ],
      "metadata": {
        "colab": {
          "base_uri": "https://localhost:8080/"
        },
        "id": "70XJJEl5-IdU",
        "outputId": "20976fc1-e789-483f-b181-96b4e5c8efb4"
      },
      "execution_count": null,
      "outputs": [
        {
          "output_type": "stream",
          "name": "stdout",
          "text": [
            "Mounted at /content/drive\n"
          ]
        }
      ]
    },
    {
      "cell_type": "code",
      "source": [
        "#Langkah selanjutnya adalah membaca data dan memberikan nama variabel pada dataset tersebut\n",
        "data_politik = pd.read_csv('/content/drive/MyDrive/data_magang_dprd_kab.csv')"
      ],
      "metadata": {
        "id": "Ru5fmGfpEu3r"
      },
      "execution_count": null,
      "outputs": []
    },
    {
      "cell_type": "code",
      "source": [
        "len(data_politik)"
      ],
      "metadata": {
        "colab": {
          "base_uri": "https://localhost:8080/"
        },
        "id": "nnSkl8euEiRU",
        "outputId": "cd6bf57b-1ba8-4871-e0bb-3948e762319a"
      },
      "execution_count": null,
      "outputs": [
        {
          "output_type": "execute_result",
          "data": {
            "text/plain": [
              "1245348"
            ]
          },
          "metadata": {},
          "execution_count": 19
        }
      ]
    },
    {
      "cell_type": "code",
      "source": [
        "# Mengambil kolom 'nm_kota' secara distinct\n",
        "distinct_nm_kota = data_politik['nm_kota'].unique()\n",
        "\n",
        "# Menampilkan hasil\n",
        "print(distinct_nm_kota)\n"
      ],
      "metadata": {
        "id": "E2X5HGXVGOrh"
      },
      "execution_count": null,
      "outputs": []
    },
    {
      "cell_type": "code",
      "source": [
        "#mengetahui total kabupaten dalam dataset\n",
        "len(distinct_nm_kota)"
      ],
      "metadata": {
        "colab": {
          "base_uri": "https://localhost:8080/"
        },
        "id": "PW7aEKbeH7jq",
        "outputId": "051c260d-ca4a-421d-ac6c-f47b5e14d12f"
      },
      "execution_count": null,
      "outputs": [
        {
          "output_type": "execute_result",
          "data": {
            "text/plain": [
              "480"
            ]
          },
          "metadata": {},
          "execution_count": 7
        }
      ]
    },
    {
      "cell_type": "code",
      "source": [
        "# Membuat dataset dengan kelompok-kelompok tertentu berdasarkan tugas masing-masing\n",
        "# Daftar nama kota yang ingin Anda saring\n",
        "nama_kota = [\n",
        "    'ACEH BARAT', 'ACEH BARAT DAYA', 'ACEH BESAR', 'ACEH JAYA', 'ACEH SELATAN', 'ACEH SINGKIL', 'ACEH TAMIANG',\n",
        "    'ACEH TENGAH', 'ACEH TENGGARA', 'ACEH TIMUR', 'ACEH UTARA', 'AGAM', 'ALOR', 'ASAHAN', 'BADUNG', 'BALANGAN',\n",
        "    'BANDUNG', 'BANDUNG BARAT', 'BANGGAI', 'BANGGAI KEPULAUAN', 'BANGGAI LAUT', 'BANGKA', 'BANGKA BARAT', 'BANGKALAN',\n",
        "    'BANGKA SELATAN', 'BANGKA TENGAH', 'BANGLI', 'BANJAR', 'BANJARNEGARA', 'BANTAENG', 'BANTUL', 'BANYUASIN',\n",
        "    'BANYUMAS', 'BANYUWANGI', 'BARITO KUALA', 'BARITO SELATAN', 'BARITO TIMUR', 'BARITO UTARA', 'BARRU', 'BATANG',\n",
        "    'BATANGHARI', 'BATU BARA', 'BEKASI', 'BELITUNG', 'BELITUNG TIMUR', 'BELU', 'BENER MERIAH', 'BENGKALIS', 'BENGKAYANG',\n",
        "    'BENGKULU SELATAN', 'BENGKULU TENGAH', 'BENGKULU UTARA', 'BERAU', 'BIAK NUMFOR', 'BIMA', 'BINTAN', 'BIREUEN',\n",
        "    'BLITAR', 'BLORA', 'BOALEMO', 'BOGOR', 'BOJONEGORO', 'BOLAANG MONGONDOW', 'BOLAANG MONGONDOW SELATAN',\n",
        "    'BOLAANG MONGONDOW TIMUR', 'BOLAANG MONGONDOW UTARA', 'BOMBANA', 'BONDOWOSO', 'BONE', 'BONE BOLANGO', 'BOVEN DIGOEL',\n",
        "    'BOYOLALI', 'BREBES', 'BULELENG', 'BULUKUMBA', 'BULUNGAN', 'BUNGO', 'BUOL', 'BURU', 'BURU SELATAN', 'BUTON',\n",
        "    'BUTON SELATAN', 'BUTON TENGAH', 'BUTON UTARA', 'CIAMIS', 'CIANJUR', 'CILACAP', 'CIREBON', 'DAIRI', 'DELI SERDANG',\n",
        "    'DEMAK', 'DHARMASRAYA', 'DOMPU', 'DONGGALA', 'ENDE', 'ENREKANG'\n",
        "]\n",
        "\n",
        "\n",
        "# Menyaring data berdasarkan nama kota\n",
        "dataset_orange = data_politik[data_politik['nm_kota'].isin(nama_kota)]\n",
        "\n",
        "# Menampilkan data yang telah difilter\n",
        "print(dataset_orange)"
      ],
      "metadata": {
        "colab": {
          "base_uri": "https://localhost:8080/"
        },
        "id": "gLB3Ek2GFuAq",
        "outputId": "9d9cdb63-3da8-4de1-b981-2cd2210f8e52"
      },
      "execution_count": null,
      "outputs": [
        {
          "output_type": "stream",
          "name": "stdout",
          "text": [
            "            nm_dapil          nm_desa          nm_kec     nm_kota  \\\n",
            "0       ACEH BARAT 1  BLANG BERANDANG  JOHAN PAHLAWAN  ACEH BARAT   \n",
            "1       ACEH BARAT 1  BLANG BERANDANG  JOHAN PAHLAWAN  ACEH BARAT   \n",
            "2       ACEH BARAT 1  BLANG BERANDANG  JOHAN PAHLAWAN  ACEH BARAT   \n",
            "3       ACEH BARAT 1  BLANG BERANDANG  JOHAN PAHLAWAN  ACEH BARAT   \n",
            "4       ACEH BARAT 1  BLANG BERANDANG  JOHAN PAHLAWAN  ACEH BARAT   \n",
            "...              ...              ...             ...         ...   \n",
            "305167    ENREKANG 3  TONGKONAN BASSE         MASALLE    ENREKANG   \n",
            "305168    ENREKANG 3  TONGKONAN BASSE         MASALLE    ENREKANG   \n",
            "305169    ENREKANG 3  TONGKONAN BASSE         MASALLE    ENREKANG   \n",
            "305170    ENREKANG 3  TONGKONAN BASSE         MASALLE    ENREKANG   \n",
            "305171    ENREKANG 3  TONGKONAN BASSE         MASALLE    ENREKANG   \n",
            "\n",
            "                 nm_prov mask_partai  perolehan  \n",
            "0                   ACEH        SmR1          3  \n",
            "1                   ACEH        UWR2         77  \n",
            "2                   ACEH        SnJv        406  \n",
            "3                   ACEH        U0dM         87  \n",
            "4                   ACEH        Smh1        194  \n",
            "...                  ...         ...        ...  \n",
            "305167  SULAWESI SELATAN        U1NT          1  \n",
            "305168  SULAWESI SELATAN        U1ZM          0  \n",
            "305169  SULAWESI SELATAN        U2h1         33  \n",
            "305170  SULAWESI SELATAN        U05W         69  \n",
            "305171  SULAWESI SELATAN        RWh1        107  \n",
            "\n",
            "[305172 rows x 7 columns]\n"
          ]
        }
      ]
    },
    {
      "cell_type": "code",
      "source": [
        "distinct_data_orange = dataset_orange['nm_kota'].unique()\n",
        "# Menampilkan hasil\n",
        "print(distinct_data_orange)"
      ],
      "metadata": {
        "colab": {
          "base_uri": "https://localhost:8080/"
        },
        "id": "auG0bpu7Hgvr",
        "outputId": "1f99399b-936d-45f1-c65a-aff896108eba"
      },
      "execution_count": null,
      "outputs": [
        {
          "output_type": "stream",
          "name": "stdout",
          "text": [
            "['ACEH BARAT' 'ACEH BARAT DAYA' 'ACEH BESAR' 'ACEH JAYA' 'ACEH SELATAN'\n",
            " 'ACEH SINGKIL' 'ACEH TAMIANG' 'ACEH TENGAH' 'ACEH TENGGARA' 'ACEH TIMUR'\n",
            " 'ACEH UTARA' 'AGAM' 'ALOR' 'ASAHAN' 'BADUNG' 'BALANGAN' 'BANDUNG'\n",
            " 'BANDUNG BARAT' 'BANGGAI' 'BANGGAI KEPULAUAN' 'BANGGAI LAUT' 'BANGKA'\n",
            " 'BANGKA BARAT' 'BANGKALAN' 'BANGKA SELATAN' 'BANGKA TENGAH' 'BANGLI'\n",
            " 'BANJAR' 'BANJARNEGARA' 'BANTAENG' 'BANTUL' 'BANYUASIN' 'BANYUMAS'\n",
            " 'BANYUWANGI' 'BARITO KUALA' 'BARITO SELATAN' 'BARITO TIMUR'\n",
            " 'BARITO UTARA' 'BARRU' 'BATANG' 'BATANGHARI' 'BATU BARA' 'BEKASI'\n",
            " 'BELITUNG' 'BELITUNG TIMUR' 'BELU' 'BENER MERIAH' 'BENGKALIS'\n",
            " 'BENGKAYANG' 'BENGKULU SELATAN' 'BENGKULU TENGAH' 'BENGKULU UTARA'\n",
            " 'BERAU' 'BIAK NUMFOR' 'BIMA' 'BINTAN' 'BIREUEN' 'BLITAR' 'BLORA'\n",
            " 'BOALEMO' 'BOGOR' 'BOJONEGORO' 'BOLAANG MONGONDOW'\n",
            " 'BOLAANG MONGONDOW SELATAN' 'BOLAANG MONGONDOW TIMUR'\n",
            " 'BOLAANG MONGONDOW UTARA' 'BOMBANA' 'BONDOWOSO' 'BONE' 'BONE BOLANGO'\n",
            " 'BOVEN DIGOEL' 'BOYOLALI' 'BREBES' 'BULELENG' 'BULUKUMBA' 'BULUNGAN'\n",
            " 'BUNGO' 'BUOL' 'BURU' 'BURU SELATAN' 'BUTON' 'BUTON SELATAN'\n",
            " 'BUTON TENGAH' 'BUTON UTARA' 'CIAMIS' 'CIANJUR' 'CILACAP' 'CIREBON'\n",
            " 'DAIRI' 'DELI SERDANG' 'DEMAK' 'DHARMASRAYA' 'DOMPU' 'DONGGALA' 'ENDE'\n",
            " 'ENREKANG']\n"
          ]
        }
      ]
    },
    {
      "cell_type": "code",
      "source": [
        "len(distinct_data_orange)"
      ],
      "metadata": {
        "colab": {
          "base_uri": "https://localhost:8080/"
        },
        "id": "_hoFuxLTImdH",
        "outputId": "7393a4fc-5bf1-4a06-ea23-b6acaa8ccad7"
      },
      "execution_count": null,
      "outputs": [
        {
          "output_type": "execute_result",
          "data": {
            "text/plain": [
              "96"
            ]
          },
          "metadata": {},
          "execution_count": 20
        }
      ]
    },
    {
      "cell_type": "code",
      "source": [
        "# Membuat dan mengelompokan dataset dengan nama dataset_orange dengan kriteria kota-kota tertentum menggunakan format csv\n",
        "dataset_orange.to_csv('dataset_orange.csv', index=False)"
      ],
      "metadata": {
        "id": "7aeIvs0JIrAv"
      },
      "execution_count": null,
      "outputs": []
    },
    {
      "cell_type": "code",
      "source": [
        "# Membuat dan mengelompokan dataset dengan nama dataset_merah dengan kriteria kota-kota tertentum menggunakan format csv\n",
        "# Daftar nama kota yang ingin Anda saring\n",
        "nama_kota_1= [\n",
        "    'FLORES TIMUR', 'GARUT', 'GAYO LUES', 'GIANYAR', 'GORONTALO',\n",
        "    'GORONTALO UTARA', 'GRESIK', 'GROBOGAN', 'GUNUNGKIDUL', 'GUNUNG MAS',\n",
        "    'HALMAHERA BARAT', 'HALMAHERA SELATAN', 'HALMAHERA TENGAH',\n",
        "    'HALMAHERA TIMUR', 'HALMAHERA UTARA', 'HULU SUNGAI SELATAN',\n",
        "    'HULU SUNGAI TENGAH', 'HULU SUNGAI UTARA', 'HUMBANG HASUNDUTAN',\n",
        "    'INDRAGIRI HILIR', 'INDRAGIRI HULU', 'INDRAMAYU', 'JAYAPURA', 'JEMBER',\n",
        "    'JEMBRANA', 'JENEPONTO', 'JEPARA', 'JOMBANG', 'KAIMANA', 'KAMPAR',\n",
        "    'KAPUAS', 'KAPUAS HULU', 'KARANGANYAR', 'KARANGASEM', 'KARAWANG',\n",
        "    'KARIMUN', 'KARO', 'KATINGAN', 'KAUR', 'KAYONG UTARA', 'KEBUMEN',\n",
        "    'KEDIRI', 'KENDAL', 'KEPAHIANG', 'KEPULAUAN ANAMBAS',\n",
        "    'KEPULAUAN MENTAWAI', 'KEPULAUAN MERANTI', 'KEPULAUAN SANGIHE',\n",
        "    'KEPULAUAN SELAYAR', 'KEPULAUAN SIAU TAGULANDANG BIARO',\n",
        "    'KEPULAUAN SULA', 'KEPULAUAN TALAUD', 'KERINCI', 'KETAPANG', 'KLATEN',\n",
        "    'KLUNGKUNG', 'KOLAKA', 'KOLAKA TIMUR', 'KOLAKA UTARA', 'KONAWE',\n",
        "    'KONAWE KEPULAUAN', 'KONAWE SELATAN', 'KONAWE UTARA', 'KOTA AMBON',\n",
        "    'KOTA BALIKPAPAN', 'KOTA BANDA ACEH', 'KOTA BANDAR LAMPUNG',\n",
        "    'KOTA BANDUNG', 'KOTA BANJAR', 'KOTA BANJARBARU', 'KOTA BANJARMASIN',\n",
        "    'KOTABARU', 'KOTA BATAM', 'KOTA BATU', 'KOTA BAU BAU', 'KOTA BEKASI',\n",
        "    'KOTA BENGKULU', 'KOTA BIMA', 'KOTA BINJAI', 'KOTA BITUNG', 'KOTA BLITAR',\n",
        "    'KOTA BOGOR', 'KOTA BONTANG', 'KOTA BUKITTINGGI', 'KOTA CILEGON',\n",
        "    'KOTA CIMAHI', 'KOTA CIREBON', 'KOTA DENPASAR', 'KOTA DEPOK',\n",
        "    'KOTA DUMAI', 'KOTA GORONTALO', 'KOTA GUNUNGSITOLI', 'KOTA JAMBI',\n",
        "    'KOTA KEDIRI'\n",
        "]\n",
        "\n",
        "# Menyaring data berdasarkan nama kota\n",
        "dataset_merah = data_politik[data_politik['nm_kota'].isin(nama_kota_1)]\n",
        "\n",
        "# Menyimpan hasil filter ke dalam file CSV\n",
        "dataset_merah.to_csv('dataset_merah.csv', index=False)\n"
      ],
      "metadata": {
        "id": "JquUjyCNJM7T"
      },
      "execution_count": null,
      "outputs": []
    },
    {
      "cell_type": "code",
      "source": [
        "distinct_data_merah = dataset_merah['nm_kota'].unique()\n",
        "\n",
        "# Menampilkan hasil\n",
        "print(distinct_data_merah)\n",
        "len(distinct_data_merah)"
      ],
      "metadata": {
        "colab": {
          "base_uri": "https://localhost:8080/"
        },
        "id": "KOLVr3mZwAE8",
        "outputId": "dd2efd33-f6f8-4318-9ded-49f7dfdb1728"
      },
      "execution_count": null,
      "outputs": [
        {
          "output_type": "stream",
          "name": "stdout",
          "text": [
            "['FLORES TIMUR' 'GARUT' 'GAYO LUES' 'GIANYAR' 'GORONTALO UTARA' 'GRESIK'\n",
            " 'GROBOGAN' 'GUNUNGKIDUL' 'GUNUNG MAS' 'HALMAHERA BARAT'\n",
            " 'HALMAHERA SELATAN' 'HALMAHERA TENGAH' 'HALMAHERA TIMUR'\n",
            " 'HALMAHERA UTARA' 'HULU SUNGAI SELATAN' 'HULU SUNGAI TENGAH'\n",
            " 'HULU SUNGAI UTARA' 'HUMBANG HASUNDUTAN' 'INDRAGIRI HILIR'\n",
            " 'INDRAGIRI HULU' 'INDRAMAYU' 'JAYAPURA' 'JEMBER' 'JEMBRANA' 'JENEPONTO'\n",
            " 'JEPARA' 'JOMBANG' 'KAIMANA' 'KAMPAR' 'KAPUAS' 'KAPUAS HULU'\n",
            " 'KARANGANYAR' 'KARANGASEM' 'KARAWANG' 'KARIMUN' 'KARO' 'KATINGAN' 'KAUR'\n",
            " 'KAYONG UTARA' 'KEBUMEN' 'KEDIRI' 'KENDAL' 'KEPAHIANG'\n",
            " 'KEPULAUAN ANAMBAS' 'KEPULAUAN MENTAWAI' 'KEPULAUAN MERANTI'\n",
            " 'KEPULAUAN SANGIHE' 'KEPULAUAN SELAYAR'\n",
            " 'KEPULAUAN SIAU TAGULANDANG BIARO' 'KEPULAUAN SULA' 'KEPULAUAN TALAUD'\n",
            " 'KERINCI' 'KETAPANG' 'KLATEN' 'KLUNGKUNG' 'KOLAKA' 'KOLAKA TIMUR'\n",
            " 'KOLAKA UTARA' 'KONAWE' 'KONAWE KEPULAUAN' 'KONAWE SELATAN'\n",
            " 'KONAWE UTARA' 'KOTA AMBON' 'KOTA BALIKPAPAN' 'KOTA BANDA ACEH'\n",
            " 'KOTA BANDAR LAMPUNG' 'KOTA BANDUNG' 'KOTA BANJAR' 'KOTA BANJARBARU'\n",
            " 'KOTA BANJARMASIN' 'KOTABARU' 'KOTA BATAM' 'KOTA BATU' 'KOTA BAU BAU'\n",
            " 'KOTA BEKASI' 'KOTA BENGKULU' 'KOTA BIMA' 'KOTA BINJAI' 'KOTA BITUNG'\n",
            " 'KOTA BLITAR' 'KOTA BOGOR' 'KOTA BONTANG' 'KOTA BUKITTINGGI'\n",
            " 'KOTA CILEGON' 'KOTA CIMAHI' 'KOTA CIREBON' 'KOTA DENPASAR' 'KOTA DEPOK'\n",
            " 'KOTA DUMAI' 'KOTA GORONTALO' 'KOTA GUNUNGSITOLI' 'KOTA JAMBI'\n",
            " 'KOTA KEDIRI']\n"
          ]
        },
        {
          "output_type": "execute_result",
          "data": {
            "text/plain": [
              "93"
            ]
          },
          "metadata": {},
          "execution_count": 7
        }
      ]
    },
    {
      "cell_type": "code",
      "source": [
        "# Ternyata ada 3 nm_kota yang terlewatkan dari total yang harusnya 96 menjadi 93\n",
        "# Melakukan revisi ulang terhadap variabel nama_kota_1\n",
        "\n",
        "nama_kota_rev = [\n",
        "    'FLORES TIMUR', 'GARUT', 'GAYO LUES', 'GIANYAR', 'GORONTALO', 'GORONTALO UTARA', 'GOWA', 'GRESIK', 'GROBOGAN',\n",
        "    'GUNUNGKIDUL', 'GUNUNG MAS', 'HALMAHERA BARAT', 'HALMAHERA SELATAN', 'HALMAHERA TENGAH', 'HALMAHERA TIMUR',\n",
        "    'HALMAHERA UTARA', 'HULU SUNGAI SELATAN', 'HULU SUNGAI TENGAH', 'HULU SUNGAI UTARA', 'HUMBANG HASUNDUTAN',\n",
        "    'INDRAGIRI HILIR', 'INDRAGIRI HULU', 'INDRAMAYU', 'JAYAPURA', 'JEMBER', 'JEMBRANA', 'JENEPONTO', 'JEPARA',\n",
        "    'JOMBANG', 'KAIMANA', 'KAMPAR', 'KAPUAS', 'KAPUAS HULU', 'KARANGANYAR', 'KARANGASEM', 'KARAWANG', 'KARIMUN',\n",
        "    'KARO', 'KATINGAN', 'KAUR', 'KAYONG UTARA', 'KEBUMEN', 'KEDIRI', 'KENDAL', 'KEPAHIANG', 'KEPULAUAN ANAMBAS',\n",
        "    'KEPULAUAN MENTAWAI', 'KEPULAUAN MERANTI', 'KEPULAUAN SANGIHE', 'KEPULAUAN SELAYAR', 'KEPULAUAN SIAU TAGULANDANG BIARO',\n",
        "    'KEPULAUAN SULA', 'KEPULAUAN TALAUD', 'KERINCI', 'KETAPANG', 'KLATEN', 'KLUNGKUNG', 'KOLAKA', 'KOLAKA TIMUR',\n",
        "    'KOLAKA UTARA', 'KONAWE', 'KONAWE KEPULAUAN', 'KONAWE SELATAN', 'KONAWE UTARA', 'KOTA AMBON', 'KOTA BALIKPAPAN',\n",
        "    'KOTA BANDA ACEH', 'KOTA BANDAR LAMPUNG', 'KOTA BANDUNG', 'KOTA BANJAR', 'KOTA BANJARBARU', 'KOTA BANJARMASIN',\n",
        "    'KOTABARU', 'KOTA BATAM', 'KOTA BATU', 'KOTA BAU BAU', 'KOTA BEKASI', 'KOTA BENGKULU', 'KOTA BIMA', 'KOTA BINJAI',\n",
        "    'KOTA BITUNG', 'KOTA BLITAR', 'KOTA BOGOR', 'KOTA BONTANG', 'KOTA BUKITTINGGI', 'KOTA CILEGON', 'KOTA CIMAHI',\n",
        "    'KOTA CIREBON', 'KOTA DENPASAR', 'KOTA DEPOK', 'KOTA DUMAI', 'KOTA GORONTALO', 'KOTA GUNUNGSITOLI', 'KOTA JAMBI',\n",
        "    'KOTA KEDIRI', 'KOTA KENDARI'\n",
        "]\n",
        "len(nama_kota_rev)"
      ],
      "metadata": {
        "colab": {
          "base_uri": "https://localhost:8080/"
        },
        "id": "mjNuhTGewCvk",
        "outputId": "492b408e-8f39-4c75-a796-7b7047337842"
      },
      "execution_count": null,
      "outputs": [
        {
          "output_type": "execute_result",
          "data": {
            "text/plain": [
              "96"
            ]
          },
          "metadata": {},
          "execution_count": 32
        }
      ]
    },
    {
      "cell_type": "code",
      "source": [
        "# Kemudian melakukan proses ulang pada nama dataset_merah\n",
        "# Menyaring data berdasarkan nama kota\n",
        "dataset_merah_rev = data_politik[data_politik['nm_kota'].isin(nama_kota_rev)]\n",
        "\n",
        "# Menyimpan hasil filter ke dalam file CSV\n",
        "dataset_merah_rev.to_csv('dataset_merah.csv', index=False)"
      ],
      "metadata": {
        "id": "YRzIuPZ50Jfg"
      },
      "execution_count": null,
      "outputs": []
    },
    {
      "cell_type": "code",
      "source": [
        "# Membuat dan mengelompokan dataset dengan nama dataset_kuning dengan kriteria kota-kota tertentum menggunakan format csv\n",
        "# Daftar nama kota yang ingin Anda saring\n",
        "nama_kota_2 = [\n",
        "    'KOTA KOTAMOBAGU', 'KOTA KUPANG', 'KOTA LANGSA', 'KOTA LHOKSEUMAWE', 'KOTA LUBUKLINGGAU', 'KOTA MADIUN',\n",
        "    'KOTA MAGELANG', 'KOTA MAKASSAR', 'KOTA MALANG', 'KOTA MANADO', 'KOTA MATARAM', 'KOTA MEDAN', 'KOTA METRO',\n",
        "    'KOTA MOJOKERTO', 'KOTA PADANG', 'KOTA PADANG PANJANG', 'KOTA PADANG SIDEMPUAN', 'KOTA PAGAR ALAM',\n",
        "    'KOTA PALANGKARAYA', 'KOTA PALEMBANG', 'KOTA PALOPO', 'KOTA PALU', 'KOTA PANGKALPINANG', 'KOTA PARE PARE',\n",
        "    'KOTA PARIAMAN', 'KOTA PASURUAN', 'KOTA PAYAKUMBUH', 'KOTA PEKALONGAN', 'KOTA PEKANBARU', 'KOTA PEMATANGSIANTAR',\n",
        "    'KOTA PONTIANAK', 'KOTA PRABUMULIH', 'KOTA PROBOLINGGO', 'KOTA SABANG', 'KOTA SALATIGA', 'KOTA SAMARINDA',\n",
        "    'KOTA SAWAHLUNTO', 'KOTA SEMARANG', 'KOTA SERANG', 'KOTA SIBOLGA', 'KOTA SINGKAWANG', 'KOTA SOLOK', 'KOTA SORONG',\n",
        "    'KOTA SUBULUSSALAM', 'KOTA SUKABUMI', 'KOTA SUNGAI PENUH', 'KOTA SURABAYA', 'KOTA SURAKARTA', 'KOTA TANGERANG',\n",
        "    'KOTA TANGERANG SELATAN', 'KOTA TANJUNG BALAI', 'KOTA TANJUNGPINANG', 'KOTA TARAKAN', 'KOTA TASIKMALAYA',\n",
        "    'KOTA TEBING TINGGI', 'KOTA TEGAL', 'KOTA TERNATE', 'KOTA TIDORE KEPULAUAN', 'KOTA TOMOHON', 'KOTA TUAL',\n",
        "    'KOTAWARINGIN BARAT', 'KOTAWARINGIN TIMUR', 'KOTA YOGYAKARTA', 'KUANTAN SINGINGI', 'KUBU RAYA', 'KUDUS',\n",
        "    'KULON PROGO', 'KUNINGAN', 'KUPANG', 'KUTAI BARAT', 'KUTAI KARTANEGARA', 'KUTAI TIMUR', 'LABUHANBATU',\n",
        "    'LABUHANBATU SELATAN', 'LABUHANBATU UTARA', 'LAHAT', 'LAMANDAU', 'LAMONGAN', 'LAMPUNG BARAT', 'LAMPUNG SELATAN',\n",
        "    'LAMPUNG TENGAH', 'LAMPUNG TIMUR', 'LAMPUNG UTARA', 'LANDAK', 'LANGKAT', 'LEBAK', 'LEBONG', 'LEMBATA',\n",
        "    'LIMA PULUH KOTA', 'LINGGA', 'LOMBOK BARAT', 'LOMBOK TENGAH', 'LOMBOK TIMUR', 'LOMBOK UTARA', 'LUMAJANG', 'LUWU'\n",
        "]\n",
        "# Menyaring data berdasarkan nama kota\n",
        "dataset_kuning = data_politik[data_politik['nm_kota'].isin(nama_kota_2)]\n",
        "\n",
        "# Menyimpan hasil filter ke dalam file CSV dengan nama \"dataset_kuning.csv\"\n",
        "dataset_kuning.to_csv('dataset_kuning.csv', index=False)\n"
      ],
      "metadata": {
        "id": "fehD8PfZ1Aq-"
      },
      "execution_count": null,
      "outputs": []
    },
    {
      "cell_type": "code",
      "source": [
        "# Mengecheck total nama kota sudah sesuai\n",
        "len(nama_kota_2)"
      ],
      "metadata": {
        "colab": {
          "base_uri": "https://localhost:8080/"
        },
        "id": "njj7tjWp1ymz",
        "outputId": "5879bafd-13d3-40b8-f1e9-389652c6e013"
      },
      "execution_count": null,
      "outputs": [
        {
          "output_type": "execute_result",
          "data": {
            "text/plain": [
              "96"
            ]
          },
          "metadata": {},
          "execution_count": 14
        }
      ]
    },
    {
      "cell_type": "code",
      "source": [
        "# Membuat dan mengelompokan dataset dengan nama dataset_hijau dengan kriteria kota-kota tertentum menggunakan format csv\n",
        "# Daftar nama kota yang ingin Anda saring\n",
        "nama_kota_3 = [\n",
        "    'LUWU TIMUR', 'LUWU UTARA', 'MADIUN', 'MAGELANG', 'MAGETAN', 'MAHAKAM ULU', 'MAJALENGKA', 'MAJENE', 'MALAKA',\n",
        "    'MALANG', 'MALINAU', 'MALUKU BARAT DAYA', 'MALUKU TENGAH', 'MALUKU TENGGARA BARAT', 'MAMASA', 'MAMBERAMO RAYA',\n",
        "    'MAMBERAMO TENGAH', 'MAMUJU', 'MAMUJU TENGAH', 'MANDAILING NATAL', 'MANGGARAI', 'MANGGARAI BARAT', 'MANGGARAI TIMUR',\n",
        "    'MANOKWARI', 'MAROS', 'MELAWI', 'MEMPAWAH', 'MERANGIN', 'MESUJI', 'MIMIKA', 'MINAHASA', 'MINAHASA SELATAN',\n",
        "    'MINAHASA TENGGARA', 'MINAHASA UTARA', 'MOJOKERTO', 'MOROWALI', 'MOROWALI UTARA', 'MUARA ENIM', 'MUARO JAMBI',\n",
        "    'MUKOMUKO', 'MUNA', 'MUNA BARAT', 'MURUNG RAYA', 'MUSI BANYUASIN', 'MUSI RAWAS', 'MUSI RAWAS UTARA', 'NAGAN RAYA',\n",
        "    'NAGEKEO', 'NATUNA', 'NDUGA', 'NGADA', 'NGANJUK', 'NGAWI', 'NIAS', 'NIAS BARAT', 'NIAS SELATAN', 'NIAS UTARA',\n",
        "    'NUNUKAN', 'OGAN ILIR', 'OGAN KOMERING ILIR', 'OGAN KOMERING ULU', 'OGAN KOMERING ULU SELATAN',\n",
        "    'OGAN KOMERING ULU TIMUR', 'PACITAN', 'PADANG LAWAS', 'PADANG LAWAS UTARA', 'PADANG PARIAMAN', 'PAHUWATO',\n",
        "    'PAKPAK BHARAT', 'PAMEKASAN', 'PANDEGLANG', 'PANGANDARAN', 'PANGKAJENE DAN KEPULAUAN', 'PANIAI',\n",
        "    'PARIGI MOUTONG', 'PASAMAN', 'PASAMAN BARAT', 'PASANGKAYU', 'PASER', 'PASURUAN', 'PATI', 'PEKALONGAN',\n",
        "    'PELALAWAN', 'PEMALANG', 'PENAJAM PASER UTARA', 'PENUKAL ABAB LEMATANG ILIR', 'PESAWARAN', 'PESISIR BARAT',\n",
        "    'PESISIR SELATAN', 'PIDIE', 'PIDIE JAYA', 'PINRANG', 'POLEWALI MANDAR', 'PONOROGO', 'POSO', 'PRINGSEWU'\n",
        "]\n",
        "\n",
        "# Menyaring data berdasarkan nama kota\n",
        "dataset_hijau = data_politik[data_politik['nm_kota'].isin(nama_kota_3)]\n",
        "\n",
        "# Menyimpan hasil filter ke dalam file CSV dengan nama \"dataset_hijau.csv\"\n",
        "dataset_hijau.to_csv('dataset_hijau.csv', index=False)"
      ],
      "metadata": {
        "id": "ldVXc7hm12lm"
      },
      "execution_count": null,
      "outputs": []
    },
    {
      "cell_type": "code",
      "source": [
        "#mengecheck total nama_kota\n",
        "len(nama_kota_3)"
      ],
      "metadata": {
        "colab": {
          "base_uri": "https://localhost:8080/"
        },
        "id": "L17gF6sG8aPR",
        "outputId": "700f6792-35b9-481f-8b8d-1772455e1045"
      },
      "execution_count": null,
      "outputs": [
        {
          "output_type": "execute_result",
          "data": {
            "text/plain": [
              "96"
            ]
          },
          "metadata": {},
          "execution_count": 16
        }
      ]
    },
    {
      "cell_type": "code",
      "source": [
        "# Membuat dan mengelompokan dataset dengan nama dataset_biru dengan kriteria kota-kota tertentum menggunakan format csv\n",
        "# Daftar nama kota yang ingin Anda saring\n",
        "nama_kota_4 = [\n",
        "    'PROBOLINGGO', 'PULANG PISAU', 'PULAU MOROTAI', 'PULAU TALIABU', 'PUNCAK JAYA', 'PURBALINGGA', 'PURWAKARTA',\n",
        "    'PURWOREJO', 'RAJA AMPAT', 'REJANG LEBONG', 'REMBANG', 'ROKAN HILIR', 'ROKAN HULU', 'ROTE NDAO', 'SABU RAIJUA',\n",
        "    'SAMBAS', 'SAMOSIR', 'SAMPANG', 'SANGGAU', 'SARMI', 'SAROLANGJUN', 'SEKADAU', 'SELUMA', 'SEMARANG',\n",
        "    'SERAM BAGIAN BARAT', 'SERANG', 'SERDANG BEDAGAI', 'SERUYAN', 'SIAK', 'SIDENRENG RAPPANG', 'SIDOARJO', 'SIGI',\n",
        "    'SIJUNJUNG', 'SIKKA', 'SIMALUNGUN', 'SIMEULUE', 'SINJAI', 'SINTANG', 'SITUBONDO', 'SLEMAN', 'SOLOK', 'SOLOK SELATAN',\n",
        "    'SOPPENG', 'SORONG SELATAN', 'SRAGEN', 'SUBANG', 'SUKABUMI', 'SUKAMARA', 'SUKOHARJO', 'SUMBA BARAT',\n",
        "    'SUMBA BARAT DAYA', 'SUMBA TENGAH', 'SUMBA TIMUR', 'SUMBAWA', 'SUMBAWA BARAT', 'SUMEDANG', 'SUMENEP', 'SUPIORI',\n",
        "    'TABALONG', 'TABANAN', 'TAKALAR', 'TANAH BUMBU', 'TANAH DATAR', 'TANAH LAUT', 'TANA TIDUNG', 'TANA TORAJA',\n",
        "    'TANGERANG', 'TANGGAMUS', 'TANJUNG JABUNG BARAT', 'TANJUNG JABUNG TIMUR', 'TAPANULI SELATAN', 'TAPANULI TENGAH',\n",
        "    'TAPANULI UTARA', 'TAPIN', 'TASIKMALAYA', 'TEBO', 'TEGAL', 'TELUK BINTUNI', 'TEMANGGUNG', 'TIMOR TENGAH SELATAN',\n",
        "    'TIMOR TENGAH UTARA', 'TOBA SAMOSIR', 'TOJO UNA-UNA', 'TOLITOLI', 'TORAJA UTARA', 'TRENGGALEK', 'TUBAN',\n",
        "    'TULANG BAWANG', 'TULANG BAWANG BARAT', 'TULUNGAGUNG', 'WAJO', 'WAKATOBI', 'WAY KANAN', 'WONOGIRI', 'WONOSOBO', 'YALIMO'\n",
        "]\n",
        "\n",
        "# Menyaring data berdasarkan nama kota\n",
        "dataset_biru = data_politik[data_politik['nm_kota'].isin(nama_kota_4)]\n",
        "\n",
        "# Menyimpan hasil filter ke dalam file CSV dengan nama \"dataset_biru.csv\"\n",
        "dataset_biru.to_csv('dataset_biru.csv', index=False)"
      ],
      "metadata": {
        "id": "a0ygOGkV8iCh"
      },
      "execution_count": null,
      "outputs": []
    },
    {
      "cell_type": "code",
      "source": [
        "len(nama_kota_4)"
      ],
      "metadata": {
        "colab": {
          "base_uri": "https://localhost:8080/"
        },
        "id": "AZanss5t9hSV",
        "outputId": "1b4b6d12-5dbe-48f7-ecb0-32650461d072"
      },
      "execution_count": null,
      "outputs": [
        {
          "output_type": "execute_result",
          "data": {
            "text/plain": [
              "96"
            ]
          },
          "metadata": {},
          "execution_count": 18
        }
      ]
    },
    {
      "cell_type": "code",
      "source": [
        "len(data_politik)\n"
      ],
      "metadata": {
        "colab": {
          "base_uri": "https://localhost:8080/"
        },
        "id": "P9JiV5oH9nbG",
        "outputId": "3b758e33-a5f7-4a44-a267-eb74c2cc4218"
      },
      "execution_count": null,
      "outputs": [
        {
          "output_type": "execute_result",
          "data": {
            "text/plain": [
              "1245348"
            ]
          },
          "metadata": {},
          "execution_count": 21
        }
      ]
    },
    {
      "cell_type": "code",
      "source": [
        "len(dataset_orange)\n"
      ],
      "metadata": {
        "colab": {
          "base_uri": "https://localhost:8080/"
        },
        "id": "P0-SzmbwHqen",
        "outputId": "a8c97375-505d-4748-8824-ecc24696cabd"
      },
      "execution_count": null,
      "outputs": [
        {
          "output_type": "execute_result",
          "data": {
            "text/plain": [
              "305172"
            ]
          },
          "metadata": {},
          "execution_count": 22
        }
      ]
    },
    {
      "cell_type": "code",
      "source": [
        "len(dataset_merah_rev)\n"
      ],
      "metadata": {
        "colab": {
          "base_uri": "https://localhost:8080/"
        },
        "id": "oWFum_22Hv-i",
        "outputId": "9c15bbdd-16fd-4fcc-a0db-5a42fe5a9115"
      },
      "execution_count": null,
      "outputs": [
        {
          "output_type": "execute_result",
          "data": {
            "text/plain": [
              "219592"
            ]
          },
          "metadata": {},
          "execution_count": 39
        }
      ]
    },
    {
      "cell_type": "code",
      "source": [
        "len(dataset_merah)"
      ],
      "metadata": {
        "id": "nCY0yvk0JwS-",
        "outputId": "2e80f25b-1a5f-4a5c-cd2f-0d2751c5b99c",
        "colab": {
          "base_uri": "https://localhost:8080/"
        }
      },
      "execution_count": null,
      "outputs": [
        {
          "output_type": "execute_result",
          "data": {
            "text/plain": [
              "215896"
            ]
          },
          "metadata": {},
          "execution_count": 40
        }
      ]
    },
    {
      "cell_type": "code",
      "source": [
        "len(dataset_kuning)\n"
      ],
      "metadata": {
        "colab": {
          "base_uri": "https://localhost:8080/"
        },
        "id": "ekenkX0THyhk",
        "outputId": "8d87026f-6d62-4893-9b8d-0ab8c38e78be"
      },
      "execution_count": null,
      "outputs": [
        {
          "output_type": "execute_result",
          "data": {
            "text/plain": [
              "157208"
            ]
          },
          "metadata": {},
          "execution_count": 24
        }
      ]
    },
    {
      "cell_type": "code",
      "source": [
        "len(dataset_hijau)\n"
      ],
      "metadata": {
        "colab": {
          "base_uri": "https://localhost:8080/"
        },
        "id": "v9-3yS9jHzyU",
        "outputId": "94e9add3-b00d-4259-ac02-54fc2f240318"
      },
      "execution_count": null,
      "outputs": [
        {
          "output_type": "execute_result",
          "data": {
            "text/plain": [
              "284456"
            ]
          },
          "metadata": {},
          "execution_count": 25
        }
      ]
    },
    {
      "cell_type": "code",
      "source": [
        "len(dataset_biru)"
      ],
      "metadata": {
        "colab": {
          "base_uri": "https://localhost:8080/"
        },
        "id": "FYwtPEvlH1dt",
        "outputId": "5d9fc313-843f-4222-b648-5636449304ed"
      },
      "execution_count": null,
      "outputs": [
        {
          "output_type": "execute_result",
          "data": {
            "text/plain": [
              "273112"
            ]
          },
          "metadata": {},
          "execution_count": 26
        }
      ]
    },
    {
      "cell_type": "code",
      "source": [
        "total = 273112 + 284456 + 157208 + 219592 + 305172"
      ],
      "metadata": {
        "id": "eMK4hilKIAQR"
      },
      "execution_count": null,
      "outputs": []
    },
    {
      "cell_type": "code",
      "source": [
        "print(total)"
      ],
      "metadata": {
        "colab": {
          "base_uri": "https://localhost:8080/"
        },
        "id": "DGKWdW4CIP5A",
        "outputId": "5be5769d-5718-48e8-c5d3-c90bab731177"
      },
      "execution_count": null,
      "outputs": [
        {
          "output_type": "stream",
          "name": "stdout",
          "text": [
            "1239540\n"
          ]
        }
      ]
    },
    {
      "cell_type": "code",
      "source": [
        "1245348 - 1239540"
      ],
      "metadata": {
        "colab": {
          "base_uri": "https://localhost:8080/"
        },
        "id": "ZXSVX7o8ISGg",
        "outputId": "32a22249-4f9e-4902-b0d4-282c6b0aaf89"
      },
      "execution_count": null,
      "outputs": [
        {
          "output_type": "execute_result",
          "data": {
            "text/plain": [
              "5808"
            ]
          },
          "metadata": {},
          "execution_count": 30
        }
      ]
    },
    {
      "cell_type": "code",
      "source": [],
      "metadata": {
        "id": "FN24MqDSIipE"
      },
      "execution_count": null,
      "outputs": []
    }
  ]
}